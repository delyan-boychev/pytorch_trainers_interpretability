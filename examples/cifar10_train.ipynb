{
 "cells": [
  {
   "cell_type": "markdown",
   "metadata": {},
   "source": [
    "## Regular and Adversarial training SmallImageNet"
   ]
  },
  {
   "cell_type": "code",
   "execution_count": 1,
   "metadata": {},
   "outputs": [],
   "source": [
    "from pytorch_trainers_interpretability.trainers import BasicTrainer, AdversarialTrainer\n",
    "from pytorch_trainers_interpretability.attack import Attacker, L2Step, LinfStep\n",
    "from pytorch_trainers_interpretability.models import ResNet18_cifar\n",
    "from torchvision import transforms\n",
    "import matplotlib.pyplot as plt\n",
    "import torchvision\n",
    "import torch\n",
    "import numpy as np"
   ]
  },
  {
   "cell_type": "code",
   "execution_count": null,
   "metadata": {},
   "outputs": [],
   "source": [
    "transform_train = transforms.Compose([\n",
    "   transforms.RandomCrop(32, padding=4),\n",
    "  transforms.RandomHorizontalFlip(),\n",
    "   transforms.ToTensor()])\n",
    "transform_test = transforms.Compose([\n",
    "    transforms.ToTensor()])\n",
    "trainset = torchvision.datasets.CIFAR10(root='./data', train=True,\n",
    "                                        download=True, transform=transform_train)\n",
    "testset = torchvision.datasets.CIFAR10(root='./data', train=False,\n",
    "                                       download=True, transform=transform_test)\n",
    "testloader = torch.utils.data.DataLoader(testset, batch_size=128,\n",
    "                                         shuffle=True)\n",
    "\n",
    "normalizer = transforms.Normalize((0.4914, 0.4822, 0.4465), (0.2023, 0.1994, 0.2010))\n",
    "classes = [\"airplane\", \"automobile\", \"bird\", \"cat\", \"deer\", \"dog\", \"frog\", \"horse\", \"ship\", \"truck\"]\n"
   ]
  },
  {
   "cell_type": "code",
   "execution_count": null,
   "metadata": {},
   "outputs": [],
   "source": [
    "model = ResNet18_cifar(num_classes=10)\n",
    "training_kwargs = {\n",
    "    \"model\": model,\n",
    "    \"pretrained\": False,\n",
    "    \"batch_size\": 128,\n",
    "    \"adv_step\": L2Step,\n",
    "    \"adv_epsilon\": 0.5,\n",
    "    \"adv_iter\": 20,\n",
    "    \"lr\": 0.01,\n",
    "    \"epochs\": 100,\n",
    "    \"optimizer\": \"SGD\",\n",
    "    \"weight_decay\": 5e-4,\n",
    "    \"lr_scheduler\": \"CosineAnnealingLR\",\n",
    "    \"testset\": testset,\n",
    "    \"trainset\": trainset,\n",
    "    \"transforms_train\": transform_train,\n",
    "    \"transforms_test\": transform_test,\n",
    "    \"input_normalizer\": normalizer,\n",
    "    \"save_path\": \"./cifar10_regular_model\"\n",
    "}\n",
    "trainer = BasicTrainer(**training_kwargs)\n",
    "trainer()\n",
    "trainer.eval()\n",
    "trainer.eval_adv()"
   ]
  },
  {
   "cell_type": "code",
   "execution_count": null,
   "metadata": {},
   "outputs": [],
   "source": [
    "model = ResNet18_cifar(num_classes=10)\n",
    "training_kwargs2 = {\n",
    "    \"model\": model,\n",
    "    \"pretrained\": False,\n",
    "    \"batch_size\": 128,\n",
    "    \"adv_step\": L2Step,\n",
    "    \"adv_epsilon\": 0.5,\n",
    "    \"adv_iter\": 20,\n",
    "    \"lr\": 0.01,\n",
    "    \"epochs\": 100,\n",
    "    \"optimizer\": \"SGD\",\n",
    "    \"weight_decay\": 5e-4,\n",
    "    \"lr_scheduler\": \"CosineAnnealingLR\",\n",
    "    \"testset\": testset,\n",
    "    \"trainset\": trainset,\n",
    "    \"transforms_train\": transform_train,\n",
    "    \"transforms_test\": transform_test,\n",
    "    \"input_normalizer\": normalizer,\n",
    "    \"save_path\": \"./cifar10_robust_model\"\n",
    "}\n",
    "trainer2 = AdversarialTrainer(**training_kwargs2)\n",
    "trainer2()\n",
    "trainer2.eval()\n",
    "trainer2.eval_adv()"
   ]
  }
 ],
 "metadata": {
  "kernelspec": {
   "display_name": "Python 3.10.7 64-bit",
   "language": "python",
   "name": "python3"
  },
  "language_info": {
   "codemirror_mode": {
    "name": "ipython",
    "version": 3
   },
   "file_extension": ".py",
   "mimetype": "text/x-python",
   "name": "python",
   "nbconvert_exporter": "python",
   "pygments_lexer": "ipython3",
   "version": "3.10.7"
  },
  "orig_nbformat": 4,
  "vscode": {
   "interpreter": {
    "hash": "e7370f93d1d0cde622a1f8e1c04877d8463912d04d973331ad4851f04de6915a"
   }
  }
 },
 "nbformat": 4,
 "nbformat_minor": 2
}
