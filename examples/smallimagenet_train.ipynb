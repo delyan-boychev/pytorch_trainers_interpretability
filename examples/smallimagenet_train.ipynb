{
 "cells": [
  {
   "attachments": {},
   "cell_type": "markdown",
   "metadata": {},
   "source": [
    "## Standard and Adversarial training SmallImageNet"
   ]
  },
  {
   "cell_type": "code",
   "execution_count": 2,
   "metadata": {},
   "outputs": [],
   "source": [
    "import torch\n",
    "from pytorch_trainers_interpretability.interpretability_eval import IntegratedGrad\n",
    "from pytorch_trainers_interpretability.interpretability_eval.lime import LimeEval\n",
    "import matplotlib.pyplot as plt\n",
    "import numpy as np\n",
    "from textwrap import wrap\n",
    "from pytorch_trainers_interpretability.trainers import StandardTrainer, AdversarialTrainer\n",
    "from pytorch_trainers_interpretability.interpretability_eval.integrated_grad import IntegratedGrad\n",
    "from pytorch_trainers_interpretability.attack import Attacker, L2Step, LinfStep\n",
    "from pytorch_trainers_interpretability.trainers.tools import get_mean_and_std, AccEvaluator\n",
    "from pytorch_trainers_interpretability.models.resnet  import ResNet50\n",
    "from torchvision import datasets, transforms\n",
    "from PIL import Image\n",
    "import json\n",
    "import torchvision\n",
    "import copy\n",
    "import os\n",
    "import torch.nn as nn"
   ]
  },
  {
   "cell_type": "code",
   "execution_count": null,
   "metadata": {},
   "outputs": [],
   "source": [
    "!wget --load-cookies /tmp/cookies.txt \"https://docs.google.com/uc?export=download&confirm=$(wget --quiet --save-cookies /tmp/cookies.txt --keep-session-cookies --no-check-certificate 'https://docs.google.com/uc?export=download&id=1619V_hLgH3mhZSVCYuYO1G7y0088A1vq' -O- | sed -rn 's/.*confirm=([0-9A-Za-z_]+).*/\\1\\n/p')&id=1619V_hLgH3mhZSVCYuYO1G7y0088A1vq\" -O \"smallimagenet.tar.gz\" && rm -rf /tmp/cookies.txt\n",
    "!wget --no-check-certificate 'https://docs.google.com/uc?export=download&id=1t71KG_u-X-LCAFJ94Kg0pqNBajumEEsu' -O \"smallimagenet150_labels.json\""
   ]
  },
  {
   "cell_type": "code",
   "execution_count": null,
   "metadata": {},
   "outputs": [],
   "source": [
    "!tar -xzf ./smallimagenet.tar.gz ./"
   ]
  },
  {
   "cell_type": "code",
   "execution_count": null,
   "metadata": {},
   "outputs": [],
   "source": [
    "traindir = os.path.join(\"./smallimagenet\", 'train')\n",
    "valdir = os.path.join(\"./smallimagenet\", 'test')\n",
    "normalize = transforms.Normalize(mean=[0.4808, 0.4512, 0.4072],\n",
    "                                     std=[0.2687, 0.2610, 0.2742])\n",
    "trainset = datasets.ImageFolder(traindir)\n",
    "transform_train =   transforms.Compose([\n",
    "          transforms.Resize(140),\n",
    "          transforms.RandomResizedCrop(128),\n",
    "          transforms.RandomHorizontalFlip(),\n",
    "          transforms.ToTensor(),\n",
    "    ])\n",
    "transform_test = transforms.Compose([\n",
    "          transforms.Resize(140),\n",
    "          transforms.CenterCrop(128),\n",
    "          transforms.ToTensor(),\n",
    "    ])\n",
    "testset = datasets.ImageFolder(valdir, transform=transform_test)\n",
    "testloader = torch.utils.data.DataLoader(testset, batch_size=200,\n",
    "                                         shuffle=True)  \n",
    "f = open('./smallimagenet150_labels.json')\n",
    "\n",
    "classes = json.load(f)"
   ]
  },
  {
   "cell_type": "code",
   "execution_count": null,
   "metadata": {},
   "outputs": [],
   "source": [
    "model = ResNet50(num_classes=150)\n",
    "training_kwargs = {\n",
    "    \"model\": model,\n",
    "    \"pretrained\": False,\n",
    "    \"batch_size\": 200,\n",
    "    \"adv_step\": L2Step,\n",
    "    \"adv_epsilon\": 0.5,\n",
    "    \"adv_iter\": 20,\n",
    "    \"adv_lr\": 0.1,\n",
    "    \"lr\": 0.0001,\n",
    "    \"epochs\": 100,\n",
    "    \"optimizer\": \"Adam\",\n",
    "    \"weight_decay\": 5e-4,\n",
    "    \"lr_scheduler\": \"CosineAnnealingLR\",\n",
    "    \"testset\": testset,\n",
    "    \"trainset\": trainset,\n",
    "    \"transforms_train\": transform_train,\n",
    "    \"transforms_test\": transform_test,\n",
    "    \"input_normalizer\": normalize,\n",
    "    \"save_path\": \"./smimagenet_standard_model\"\n",
    "}\n",
    "trainer = StandardTrainer(**training_kwargs)\n",
    "trainer()\n",
    "trainer.eval()\n",
    "trainer.eval_adv()"
   ]
  },
  {
   "cell_type": "code",
   "execution_count": null,
   "metadata": {},
   "outputs": [],
   "source": [
    "model2 = ResNet50(num_classes=150)\n",
    "training_kwargs2 = {\n",
    "    \"model\": model2,\n",
    "    \"pretrained\": False,\n",
    "    \"batch_size\": 200,\n",
    "    \"adv_step\": L2Step,\n",
    "    \"adv_epsilon\": 0.5,\n",
    "    \"adv_iter\": 20,\n",
    "    \"adv_lr\": 0.1,\n",
    "    \"lr\": 0.0001,\n",
    "    \"epochs\": 100,\n",
    "    \"optimizer\": \"Adam\",\n",
    "    \"weight_decay\": 5e-4,\n",
    "    \"lr_scheduler\": \"CosineAnnealingLR\",\n",
    "    \"testset\": testset,\n",
    "    \"trainset\": trainset,\n",
    "    \"transforms_train\": transform_train,\n",
    "    \"transforms_test\": transform_test,\n",
    "    \"input_normalizer\": normalize,\n",
    "    \"save_path\": \"./smimagenet_robust_l2_model\"\n",
    "}\n",
    "trainer2 = AdversarialTrainer(**training_kwargs2)\n",
    "trainer2()\n",
    "trainer2.eval_nat()\n",
    "trainer2.eval_adv()"
   ]
  },
  {
   "cell_type": "code",
   "execution_count": null,
   "metadata": {},
   "outputs": [],
   "source": [
    "model3 = ResNet50(num_classes=150)\n",
    "training_kwargs3 = {\n",
    "    \"model\": model3,\n",
    "    \"pretrained\": False,\n",
    "    \"batch_size\": 200,\n",
    "    \"adv_step\": LinfStep,\n",
    "    \"adv_epsilon\": 4/255,\n",
    "    \"adv_iter\": 20,\n",
    "    \"adv_lr\": 0.01,\n",
    "    \"lr\": 0.0001,\n",
    "    \"epochs\": 100,\n",
    "    \"optimizer\": \"Adam\",\n",
    "    \"weight_decay\": 5e-4,\n",
    "    \"lr_scheduler\": \"CosineAnnealingLR\",\n",
    "    \"testset\": testset,\n",
    "    \"trainset\": trainset,\n",
    "    \"transforms_train\": transform_train,\n",
    "    \"transforms_test\": transform_test,\n",
    "    \"input_normalizer\": normalize,\n",
    "    \"save_path\": \"./smimagenet_robust_linf_model\"\n",
    "}\n",
    "trainer3 = AdversarialTrainer(**training_kwargs3)\n",
    "trainer3()\n",
    "trainer3.eval_nat()\n",
    "trainer3.eval_adv()"
   ]
  }
 ],
 "metadata": {
  "kernelspec": {
   "display_name": "Python 3.10.7 64-bit",
   "language": "python",
   "name": "python3"
  },
  "language_info": {
   "codemirror_mode": {
    "name": "ipython",
    "version": 3
   },
   "file_extension": ".py",
   "mimetype": "text/x-python",
   "name": "python",
   "nbconvert_exporter": "python",
   "pygments_lexer": "ipython3",
   "version": "3.10.9 (main, Dec 19 2022, 17:35:49) [GCC 12.2.0]"
  },
  "orig_nbformat": 4,
  "vscode": {
   "interpreter": {
    "hash": "e7370f93d1d0cde622a1f8e1c04877d8463912d04d973331ad4851f04de6915a"
   }
  }
 },
 "nbformat": 4,
 "nbformat_minor": 2
}
